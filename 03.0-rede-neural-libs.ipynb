{
 "cells": [
  {
   "cell_type": "code",
   "execution_count": null,
   "metadata": {},
   "outputs": [],
   "source": [
    "# uso da biblioteca sklearn com dataset iris\n",
    "\n",
    "# importando bibliotecas\n",
    "from sklearn.neural_network import MLPClassifier     # importando biblioteca com a rede neural\n",
    "from sklearn.datasets import load_iris               # importando biblioteca com o dataset iris\n"
   ]
  },
  {
   "cell_type": "code",
   "execution_count": null,
   "metadata": {},
   "outputs": [],
   "source": [
    "# carregando o dataset iris\n",
    "iris = load_iris() \n",
    "iris                                 "
   ]
  },
  {
   "cell_type": "code",
   "execution_count": null,
   "metadata": {},
   "outputs": [],
   "source": [
    "# visualizando os atributos do dataset\n",
    "iris.data"
   ]
  },
  {
   "cell_type": "code",
   "execution_count": null,
   "metadata": {},
   "outputs": [],
   "source": [
    "# visualizando as classes(target) do dataset\n",
    "\n",
    "iris.target"
   ]
  },
  {
   "cell_type": "code",
   "execution_count": null,
   "metadata": {},
   "outputs": [],
   "source": [
    "# definindo os parametros da rede neural\n",
    "\n",
    "entradas = iris.data\n",
    "saidas = iris.target"
   ]
  },
  {
   "cell_type": "code",
   "execution_count": null,
   "metadata": {},
   "outputs": [],
   "source": [
    "# criando o modelo da rede neural\n",
    "\n",
    "nn_model = MLPClassifier(verbose=True,                     # imprime as alterações do processo de treinamento(err, inter, ...)\n",
    "                         max_iter=1000,                    # numero de iterações\n",
    "                         tol=0.00001,                      # tolerancia para convergência\n",
    "                         activation='relu',                # função de ativação\n",
    "                         learning_rate_init=0.0001)        # taxa de aprendizado   \n",
    "nn_model.fit(entradas, saidas)"
   ]
  },
  {
   "cell_type": "code",
   "execution_count": null,
   "metadata": {},
   "outputs": [],
   "source": [
    "# previsão com um novo registro\n",
    "\n",
    "nn_model.predict([[5, 7.2, 5.1, 2.2]])"
   ]
  }
 ],
 "metadata": {
  "interpreter": {
   "hash": "ad2bdc8ecc057115af97d19610ffacc2b4e99fae6737bb82f5d7fb13d2f2c186"
  },
  "kernelspec": {
   "display_name": "Python 3.8.8 ('base')",
   "language": "python",
   "name": "python3"
  },
  "language_info": {
   "codemirror_mode": {
    "name": "ipython",
    "version": 3
   },
   "file_extension": ".py",
   "mimetype": "text/x-python",
   "name": "python",
   "nbconvert_exporter": "python",
   "pygments_lexer": "ipython3",
   "version": "3.8.8"
  },
  "orig_nbformat": 4
 },
 "nbformat": 4,
 "nbformat_minor": 2
}
