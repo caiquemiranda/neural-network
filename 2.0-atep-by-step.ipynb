{
 "cells": [
  {
   "cell_type": "code",
   "execution_count": null,
   "metadata": {},
   "outputs": [],
   "source": [
    "# bibliotecas necessárias\n",
    "\n",
    "import numpy as np              # para cálculos matemáticos\n",
    "import pandas as pd             # para manipulação de dados"
   ]
  },
  {
   "cell_type": "code",
   "execution_count": null,
   "metadata": {},
   "outputs": [],
   "source": [
    "# numero de euler\n",
    "np.exp(1)"
   ]
  },
  {
   "cell_type": "code",
   "execution_count": null,
   "metadata": {},
   "outputs": [],
   "source": [
    "# definindo a função de ativação sigmoid\n",
    "\n",
    "def sigmoid(soma):\n",
    "    return 1 / ( 1 + np.exp ( -soma ) )      # formula função sigmoid"
   ]
  },
  {
   "cell_type": "code",
   "execution_count": null,
   "metadata": {},
   "outputs": [],
   "source": [
    "# teste da função sigmoid\n",
    "x = []\n",
    "y = []\n",
    "\n",
    "for i in range(-10, 11):  # de -10 a +10 \n",
    "    y.append(sigmoid(i))\n",
    "    x.append(i)\n",
    "\n",
    "# transformando em dataframe para plot\n",
    "dic = {'x': x, 'y': y}\n",
    "dic = pd.DataFrame(dic)\n",
    "dic"
   ]
  },
  {
   "cell_type": "code",
   "execution_count": null,
   "metadata": {},
   "outputs": [],
   "source": [
    "# visualizando grficamente a função sigmoid\n",
    "\n",
    "dic.plot(x='x', y='y');"
   ]
  },
  {
   "cell_type": "code",
   "execution_count": null,
   "metadata": {},
   "outputs": [],
   "source": [
    "# entradas XOR\n",
    "\n",
    "entradas = np.array([[0, 0],\n",
    "                    [0, 1], \n",
    "                    [1, 0], \n",
    "                    [1, 1]])"
   ]
  },
  {
   "cell_type": "code",
   "execution_count": null,
   "metadata": {},
   "outputs": [],
   "source": [
    "# resultados esperados(classes)\n",
    "\n",
    "saidas = np.array([[0], [1], [1], [0]])\n"
   ]
  },
  {
   "cell_type": "code",
   "execution_count": null,
   "metadata": {},
   "outputs": [],
   "source": [
    "# pesos para o x1 e x2 da camada de entrada para a camada oculta\n",
    "\n",
    "pesos0 = np.array([[-0.424, -0.740, -0.961], \n",
    "                   [0.358, -0.577, -0.469]])"
   ]
  },
  {
   "cell_type": "code",
   "execution_count": null,
   "metadata": {},
   "outputs": [],
   "source": [
    "# pesos da camada oculta para a camada de saída\n",
    "\n",
    "pesos1 = np.array([[-0.017], [-0.893], [0.148]])"
   ]
  },
  {
   "cell_type": "code",
   "execution_count": null,
   "metadata": {},
   "outputs": [],
   "source": [
    "# quantidade de rodadas para treinamento para ajustes de pesos\n",
    "\n",
    "epocas = 100"
   ]
  },
  {
   "cell_type": "code",
   "execution_count": null,
   "metadata": {},
   "outputs": [],
   "source": [
    "# treinamento running time\n",
    "\n",
    "for i in range(epocas):\n",
    "    # camada de entrada\n",
    "    camadaEntrada = entradas                             # variavel auxiliar para camada de entrada\n",
    "    \n",
    "    # primeira camada\n",
    "    somaSinapse0 = np.dot(camadaEntrada, pesos0)         # produto escalar entradas e pesos0\n",
    "    camadaOculta = sigmoid(somaSinapse0)                 # função sigmoid para camada oculta\n",
    "    \n",
    "    # segunda camada\n",
    "    somaSinapse1 = np.dot(camadaOculta, pesos1)          # produto escalar camada oculta e pesos1\n",
    "    camadaSaida = sigmoid(somaSinapse1)                  # função sigmoid para camada de saída\n",
    "    \n",
    "    # erro \n",
    "    erroCamadaSaida = saidas - camadaSaida               # erro da camada de saída\n",
    "    mediaAbsoluta = np.mean(np.abs(erroCamadaSaida))     # média absoluta do erro\n",
    "    \n",
    "    # saida para o usuario\n",
    "    print(\"Erro: \" + str(mediaAbsoluta))                 # imprimindo erro\n"
   ]
  },
  {
   "cell_type": "code",
   "execution_count": null,
   "metadata": {},
   "outputs": [],
   "source": [
    "# derivada da função sigmoid\n",
    "\n",
    "def derivadaSigmoid(sig):\n",
    "    return sig * (1 - sig)"
   ]
  },
  {
   "cell_type": "code",
   "execution_count": null,
   "metadata": {},
   "outputs": [],
   "source": [
    "# derivada da função sigmoid\n",
    "\n",
    "r = derivadaSigmoid(0.7071)\n",
    "r"
   ]
  },
  {
   "cell_type": "code",
   "execution_count": null,
   "metadata": {},
   "outputs": [],
   "source": [
    "# parametros da rede neural\n",
    "\n",
    "momentum = 1\n",
    "taxaAprendizagem = 0.3"
   ]
  },
  {
   "cell_type": "code",
   "execution_count": null,
   "metadata": {},
   "outputs": [],
   "source": [
    "# quantidade de rodadas para treinamento para ajustes de pesos\n",
    "\n",
    "epocas = 1_000"
   ]
  },
  {
   "cell_type": "code",
   "execution_count": null,
   "metadata": {},
   "outputs": [],
   "source": [
    "# treinamento running time\n",
    "\n",
    "for i in range(epocas):\n",
    "    # camada de entrada\n",
    "    camadaEntrada = entradas                                             # variavel auxiliar para camada de entrada\n",
    "    \n",
    "    # primeira camada\n",
    "    somaSinapse0 = np.dot(camadaEntrada, pesos0)                         # produto escalar entradas e pesos0\n",
    "    camadaOculta = sigmoid(somaSinapse0)                                 # função sigmoid para camada oculta\n",
    "    \n",
    "    # segunda camada\n",
    "    somaSinapse1 = np.dot(camadaOculta, pesos1)                          # produto escalar camada oculta e pesos1\n",
    "    camadaSaida = sigmoid(somaSinapse1)                                  # função sigmoid para camada de saída\n",
    "    \n",
    "    # erro \n",
    "    erroCamadaSaida = saidas - camadaSaida                               # erro da camada de saída\n",
    "    mediaAbsoluta = np.mean(np.abs(erroCamadaSaida))                     # média absoluta do erro\n",
    "    print(\"Erro: \" + str(mediaAbsoluta))                                 # imprimindo erro\n",
    "\n",
    "    derivadaSaida = derivadaSigmoid(camadaSaida)                         # derivada da função sigmoid para camada de saída\n",
    "    deltaSaida = erroCamadaSaida * derivadaSaida                         # delta para camada de saída\n",
    "\n",
    "    # backpropagation\n",
    "    pesos1Transposta = pesos1.T                                          # matriz transposta de pesos1 para fazer a multiplicação de matrizes\n",
    "    deltaSaidaPeso = deltaSaida.dot(pesos1Transposta)                    # produto escalar deltaSaida e pesos1Transposta\n",
    "    deltaCamadaOculta = deltaSaidaPeso * derivadaSigmoid(camadaOculta)   # delta para camada oculta\n",
    "\n",
    "    camadaOcultaTransposta = camadaOculta.T                              # matriz transposta de camada oculta para fazer a multiplicação de matrizes\n",
    "    pesosnovo1 = camadaOcultaTransposta.dot(deltaSaida)                  # produto escalar camada oculta e deltaSaida\n",
    "    pesos1 = (pesos1 * momentum) + (pesosnovo1 * taxaAprendizagem)       # ajustando pesos1\n",
    "\n",
    "    camadaEntradaTransposta = camadaEntrada.T                             # matriz transposta de camada de entrada para fazer a multiplicação de matrizes\n",
    "    pesosnovo0 = camadaEntradaTransposta.dot(deltaCamadaOculta)           # produto escalar camada de entrada e deltaCamadaOculta\n",
    "    pesos0 = (pesos0 * momentum) + (pesosnovo0 * taxaAprendizagem)        # ajustando pesos0\n",
    "    "
   ]
  },
  {
   "cell_type": "code",
   "execution_count": null,
   "metadata": {},
   "outputs": [],
   "source": [
    "# inicializando pesos aleatoriamente\n",
    "\n",
    "pesos0 = 2 * np.random.random((2, 3)) - 1\n",
    "pesos1 = 2 * np.random.random((3, 1)) - 1"
   ]
  }
 ],
 "metadata": {
  "interpreter": {
   "hash": "ad2bdc8ecc057115af97d19610ffacc2b4e99fae6737bb82f5d7fb13d2f2c186"
  },
  "kernelspec": {
   "display_name": "Python 3.8.8 ('base')",
   "language": "python",
   "name": "python3"
  },
  "language_info": {
   "codemirror_mode": {
    "name": "ipython",
    "version": 3
   },
   "file_extension": ".py",
   "mimetype": "text/x-python",
   "name": "python",
   "nbconvert_exporter": "python",
   "pygments_lexer": "ipython3",
   "version": "3.8.8"
  },
  "orig_nbformat": 4
 },
 "nbformat": 4,
 "nbformat_minor": 2
}
