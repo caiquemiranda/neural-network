{
 "cells": [
  {
   "cell_type": "code",
   "execution_count": 29,
   "metadata": {},
   "outputs": [],
   "source": [
    "# bibliotecas necessárias\n",
    "\n",
    "import numpy as np              # para cálculos matemáticos\n",
    "import pandas as pd             # para manipulação de dados"
   ]
  },
  {
   "cell_type": "code",
   "execution_count": 2,
   "metadata": {},
   "outputs": [
    {
     "data": {
      "text/plain": [
       "2.718281828459045"
      ]
     },
     "execution_count": 2,
     "metadata": {},
     "output_type": "execute_result"
    }
   ],
   "source": [
    "# numero de euler\n",
    "np.exp(1)"
   ]
  },
  {
   "cell_type": "code",
   "execution_count": 4,
   "metadata": {},
   "outputs": [],
   "source": [
    "# definindo a função de ativação sigmoid\n",
    "\n",
    "def sigmoid(soma):\n",
    "    return 1 / ( 1 + np.exp ( -soma ) )      # formula função sigmoid"
   ]
  },
  {
   "cell_type": "code",
   "execution_count": 32,
   "metadata": {},
   "outputs": [
    {
     "data": {
      "text/html": [
       "<div>\n",
       "<style scoped>\n",
       "    .dataframe tbody tr th:only-of-type {\n",
       "        vertical-align: middle;\n",
       "    }\n",
       "\n",
       "    .dataframe tbody tr th {\n",
       "        vertical-align: top;\n",
       "    }\n",
       "\n",
       "    .dataframe thead th {\n",
       "        text-align: right;\n",
       "    }\n",
       "</style>\n",
       "<table border=\"1\" class=\"dataframe\">\n",
       "  <thead>\n",
       "    <tr style=\"text-align: right;\">\n",
       "      <th></th>\n",
       "      <th>x</th>\n",
       "      <th>y</th>\n",
       "    </tr>\n",
       "  </thead>\n",
       "  <tbody>\n",
       "    <tr>\n",
       "      <th>0</th>\n",
       "      <td>-10</td>\n",
       "      <td>0.000045</td>\n",
       "    </tr>\n",
       "    <tr>\n",
       "      <th>1</th>\n",
       "      <td>-9</td>\n",
       "      <td>0.000123</td>\n",
       "    </tr>\n",
       "    <tr>\n",
       "      <th>2</th>\n",
       "      <td>-8</td>\n",
       "      <td>0.000335</td>\n",
       "    </tr>\n",
       "    <tr>\n",
       "      <th>3</th>\n",
       "      <td>-7</td>\n",
       "      <td>0.000911</td>\n",
       "    </tr>\n",
       "    <tr>\n",
       "      <th>4</th>\n",
       "      <td>-6</td>\n",
       "      <td>0.002473</td>\n",
       "    </tr>\n",
       "    <tr>\n",
       "      <th>5</th>\n",
       "      <td>-5</td>\n",
       "      <td>0.006693</td>\n",
       "    </tr>\n",
       "    <tr>\n",
       "      <th>6</th>\n",
       "      <td>-4</td>\n",
       "      <td>0.017986</td>\n",
       "    </tr>\n",
       "    <tr>\n",
       "      <th>7</th>\n",
       "      <td>-3</td>\n",
       "      <td>0.047426</td>\n",
       "    </tr>\n",
       "    <tr>\n",
       "      <th>8</th>\n",
       "      <td>-2</td>\n",
       "      <td>0.119203</td>\n",
       "    </tr>\n",
       "    <tr>\n",
       "      <th>9</th>\n",
       "      <td>-1</td>\n",
       "      <td>0.268941</td>\n",
       "    </tr>\n",
       "    <tr>\n",
       "      <th>10</th>\n",
       "      <td>0</td>\n",
       "      <td>0.500000</td>\n",
       "    </tr>\n",
       "    <tr>\n",
       "      <th>11</th>\n",
       "      <td>1</td>\n",
       "      <td>0.731059</td>\n",
       "    </tr>\n",
       "    <tr>\n",
       "      <th>12</th>\n",
       "      <td>2</td>\n",
       "      <td>0.880797</td>\n",
       "    </tr>\n",
       "    <tr>\n",
       "      <th>13</th>\n",
       "      <td>3</td>\n",
       "      <td>0.952574</td>\n",
       "    </tr>\n",
       "    <tr>\n",
       "      <th>14</th>\n",
       "      <td>4</td>\n",
       "      <td>0.982014</td>\n",
       "    </tr>\n",
       "    <tr>\n",
       "      <th>15</th>\n",
       "      <td>5</td>\n",
       "      <td>0.993307</td>\n",
       "    </tr>\n",
       "    <tr>\n",
       "      <th>16</th>\n",
       "      <td>6</td>\n",
       "      <td>0.997527</td>\n",
       "    </tr>\n",
       "    <tr>\n",
       "      <th>17</th>\n",
       "      <td>7</td>\n",
       "      <td>0.999089</td>\n",
       "    </tr>\n",
       "    <tr>\n",
       "      <th>18</th>\n",
       "      <td>8</td>\n",
       "      <td>0.999665</td>\n",
       "    </tr>\n",
       "    <tr>\n",
       "      <th>19</th>\n",
       "      <td>9</td>\n",
       "      <td>0.999877</td>\n",
       "    </tr>\n",
       "    <tr>\n",
       "      <th>20</th>\n",
       "      <td>10</td>\n",
       "      <td>0.999955</td>\n",
       "    </tr>\n",
       "  </tbody>\n",
       "</table>\n",
       "</div>"
      ],
      "text/plain": [
       "     x         y\n",
       "0  -10  0.000045\n",
       "1   -9  0.000123\n",
       "2   -8  0.000335\n",
       "3   -7  0.000911\n",
       "4   -6  0.002473\n",
       "5   -5  0.006693\n",
       "6   -4  0.017986\n",
       "7   -3  0.047426\n",
       "8   -2  0.119203\n",
       "9   -1  0.268941\n",
       "10   0  0.500000\n",
       "11   1  0.731059\n",
       "12   2  0.880797\n",
       "13   3  0.952574\n",
       "14   4  0.982014\n",
       "15   5  0.993307\n",
       "16   6  0.997527\n",
       "17   7  0.999089\n",
       "18   8  0.999665\n",
       "19   9  0.999877\n",
       "20  10  0.999955"
      ]
     },
     "execution_count": 32,
     "metadata": {},
     "output_type": "execute_result"
    }
   ],
   "source": [
    "# teste da função sigmoid\n",
    "x = []\n",
    "y = []\n",
    "\n",
    "for i in range(-10, 11):  # de -10 a +10 \n",
    "    y.append(sigmoid(i))\n",
    "    x.append(i)\n",
    "\n",
    "# transformando em dataframe para plot\n",
    "dic = {'x': x, 'y': y}\n",
    "dic = pd.DataFrame(dic)\n",
    "dic"
   ]
  },
  {
   "cell_type": "code",
   "execution_count": 31,
   "metadata": {},
   "outputs": [
    {
     "data": {
      "image/png": "[encoded data removed]",
      "text/plain": [
       "<Figure size 432x288 with 1 Axes>"
      ]
     },
     "metadata": {
      "needs_background": "light"
     },
     "output_type": "display_data"
    }
   ],
   "source": [
    "# visualizando grficamente a função sigmoid\n",
    "\n",
    "dic.plot(x='x', y='y');"
   ]
  },
  {
   "cell_type": "code",
   "execution_count": null,
   "metadata": {},
   "outputs": [],
   "source": [
    "# entradas XOR\n",
    "\n",
    "entradas = np.array([[0, 0],\n",
    "                    [0, 1], \n",
    "                    [1, 0], \n",
    "                    [1, 1]])"
   ]
  },
  {
   "cell_type": "code",
   "execution_count": null,
   "metadata": {},
   "outputs": [],
   "source": [
    "# resultados esperados(classes)\n",
    "\n",
    "saidas = np.array([[0], [1], [1], [0]])\n"
   ]
  },
  {
   "cell_type": "code",
   "execution_count": null,
   "metadata": {},
   "outputs": [],
   "source": [
    "# pesos para o x1 e x2 da camada de entrada para a camada oculta\n",
    "\n",
    "pesos0 = np.array([[-0.424, -0.740, -0.961]], \n",
    "                   [[0.358, -0.577, -0.469]])"
   ]
  },
  {
   "cell_type": "code",
   "execution_count": null,
   "metadata": {},
   "outputs": [],
   "source": [
    "# pesos da camada oculta para a camada de saída\n",
    "\n",
    "pesos1 = np.array([[-0.017], [-0.893], [0.148]])"
   ]
  },
  {
   "cell_type": "code",
   "execution_count": null,
   "metadata": {},
   "outputs": [],
   "source": [
    "# quantidade de rodadas para treinamento para ajustes de pesos\n",
    "\n",
    "epocas = 100"
   ]
  },
  {
   "cell_type": "code",
   "execution_count": null,
   "metadata": {},
   "outputs": [],
   "source": [
    "# treinamento running time\n",
    "\n",
    "for i in range(epocas):\n",
    "    camadaEntrada = entradas                             # varivel auxiliar para uso camada de entrada\n",
    "    \n",
    "    # primeira camada\n",
    "    somaSinapse0 = np.dot(camadaEntrada, pesos0)         # produto escalar entradas e pesos0\n",
    "    camadaOculta = sigmoid(somaSinapse0)                 # função sigmoid para camada oculta\n",
    "    \n",
    "    # segunda camada\n",
    "    somaSinapse1 = np.dot(camadaOculta, pesos1)          # produto escalar camada oculta e pesos1\n",
    "    camadaSaida = sigmoid(somaSinapse1)                  # função sigmoid para camada de saída\n",
    "    \n",
    "    # erro \n",
    "    erroCamadaSaida = saidas - camadaSaida               # erro da camada de saída\n",
    "    mediaAbsoluta = np.mean(np.abs(erroCamadaSaida))     # média absoluta do erro\n",
    "    \n",
    "    # saida para o usuario\n",
    "    print(\"Erro: \" + str(mediaAbsoluta))                 # imprimindo erro\n"
   ]
  },
  {
   "cell_type": "code",
   "execution_count": null,
   "metadata": {},
   "outputs": [],
   "source": [
    "# derivada da função sigmoid\n",
    "\n",
    "def derivadaSigmoid(soma):\n",
    "    return sigmoid(soma) * (1 - sigmoid(soma))"
   ]
  },
  {
   "cell_type": "code",
   "execution_count": null,
   "metadata": {},
   "outputs": [],
   "source": []
  }
 ],
 "metadata": {
  "interpreter": {
   "hash": "ad2bdc8ecc057115af97d19610ffacc2b4e99fae6737bb82f5d7fb13d2f2c186"
  },
  "kernelspec": {
   "display_name": "Python 3.8.8 ('base')",
   "language": "python",
   "name": "python3"
  },
  "language_info": {
   "codemirror_mode": {
    "name": "ipython",
    "version": 3
   },
   "file_extension": ".py",
   "mimetype": "text/x-python",
   "name": "python",
   "nbconvert_exporter": "python",
   "pygments_lexer": "ipython3",
   "version": "3.8.8"
  },
  "orig_nbformat": 4
 },
 "nbformat": 4,
 "nbformat_minor": 2
}
