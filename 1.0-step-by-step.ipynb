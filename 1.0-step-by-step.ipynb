{
 "cells": [
  {
   "cell_type": "code",
   "execution_count": 1,
   "metadata": {},
   "outputs": [],
   "source": [
    "# percepton de uma camada"
   ]
  },
  {
   "cell_type": "code",
   "execution_count": 2,
   "metadata": {},
   "outputs": [],
   "source": [
    "# entradas e pesos 1\n",
    "\n",
    "entradas = [1, 7, 5]\n",
    "pesos = [0.8, 0.1, 0]"
   ]
  },
  {
   "cell_type": "code",
   "execution_count": 3,
   "metadata": {},
   "outputs": [],
   "source": [
    "# entradas e pesos 2\n",
    "\n",
    "entradas2 = [-1, 7, 5]\n",
    "pesos2 = [0.8, 0.1, 0]"
   ]
  },
  {
   "cell_type": "code",
   "execution_count": 4,
   "metadata": {},
   "outputs": [],
   "source": [
    "# funcao de soma // \n",
    "# função que faz a mutiplicação das entradas como os pesos\n",
    "\n",
    "def func_soma(entradas, pesos):\n",
    "    soma = 0                                   # inicializa a soma\n",
    "    for i in range(len(entradas)):\n",
    "        # print(entradas[i], pesos[i])         # visualização dos valores\n",
    "        soma += entradas[i] * pesos[i]\n",
    "    return soma"
   ]
  },
  {
   "cell_type": "code",
   "execution_count": 5,
   "metadata": {},
   "outputs": [],
   "source": [
    "# função de ativação\n",
    "# função que faz a ativação da função de soma\n",
    "# se for maior ou igual a 1, retorna 1, se não, retorna 0\n",
    "\n",
    "def step_func(soma):\n",
    "    if soma >= 1:\n",
    "        return 1\n",
    "    return 0"
   ]
  },
  {
   "cell_type": "code",
   "execution_count": 6,
   "metadata": {},
   "outputs": [],
   "source": [
    "# soma com entradas e pesos 1\n",
    "\n",
    "soma = func_soma(entradas, pesos)"
   ]
  },
  {
   "cell_type": "code",
   "execution_count": 7,
   "metadata": {},
   "outputs": [],
   "source": [
    "# soma com entradas e pesos 2\n",
    "\n",
    "soma2 =func_soma(entradas2, pesos2)"
   ]
  },
  {
   "cell_type": "code",
   "execution_count": 8,
   "metadata": {},
   "outputs": [
    {
     "data": {
      "text/plain": [
       "1"
      ]
     },
     "execution_count": 8,
     "metadata": {},
     "output_type": "execute_result"
    }
   ],
   "source": [
    "# soma com a função de ativação com entradas e pesos 1\n",
    "\n",
    "r = step_func(soma)\n",
    "r"
   ]
  },
  {
   "cell_type": "code",
   "execution_count": 9,
   "metadata": {},
   "outputs": [
    {
     "data": {
      "text/plain": [
       "0"
      ]
     },
     "execution_count": 9,
     "metadata": {},
     "output_type": "execute_result"
    }
   ],
   "source": [
    "# soma com a função de ativação com entradas e pesos 2\n",
    "\n",
    "r2 = step_func(soma2)\n",
    "r2"
   ]
  },
  {
   "cell_type": "code",
   "execution_count": 10,
   "metadata": {},
   "outputs": [],
   "source": [
    "# otimização com numpy"
   ]
  },
  {
   "cell_type": "code",
   "execution_count": 11,
   "metadata": {},
   "outputs": [],
   "source": [
    "# importação do numpy, biblioteca para cálculos matemáticos\n",
    "\n",
    "import numpy as np"
   ]
  },
  {
   "cell_type": "code",
   "execution_count": 12,
   "metadata": {},
   "outputs": [],
   "source": [
    "# .dot (dot product -> produto escalar)"
   ]
  },
  {
   "cell_type": "code",
   "execution_count": 13,
   "metadata": {},
   "outputs": [],
   "source": [
    "# entradas e pesos 1 em um array numpy\n",
    "\n",
    "entradas = np.array([1.0, 7.0, 5.0])\n",
    "pesos = np.array([0.8, 0.1, 0])"
   ]
  },
  {
   "cell_type": "code",
   "execution_count": 14,
   "metadata": {},
   "outputs": [],
   "source": [
    "# definição da função de soma\n",
    "\n",
    "def func_soma2(entradas, pesos):\n",
    "    return entradas.dot(pesos)          # multiplicação de matrizes \n",
    "    "
   ]
  },
  {
   "cell_type": "code",
   "execution_count": 15,
   "metadata": {},
   "outputs": [
    {
     "data": {
      "text/plain": [
       "1.5"
      ]
     },
     "execution_count": 15,
     "metadata": {},
     "output_type": "execute_result"
    }
   ],
   "source": [
    "# soma com entradas e pesos 1\n",
    "\n",
    "r = func_soma2(entradas, pesos)\n",
    "r"
   ]
  },
  {
   "cell_type": "code",
   "execution_count": 16,
   "metadata": {},
   "outputs": [],
   "source": [
    "# implementação de uma rede com ajuste dos pesos"
   ]
  },
  {
   "cell_type": "code",
   "execution_count": 17,
   "metadata": {},
   "outputs": [],
   "source": [
    "# parametros utilizados na rede neural\n",
    "\n",
    "entradas = np.array([[0,0], [0,1], [1,0], [1,1]])\n",
    "saidas = np.array([0, 0, 0, 1])\n",
    "pesos = np.array([0.0, 0.0])\n",
    "taxaAprendizagem = 0.1"
   ]
  },
  {
   "cell_type": "code",
   "execution_count": 18,
   "metadata": {},
   "outputs": [],
   "source": [
    "# definição da função de ativação\n",
    "\n",
    "def step_func(soma):\n",
    "    if soma >= 1:\n",
    "        return 1\n",
    "    return 0"
   ]
  },
  {
   "cell_type": "code",
   "execution_count": 19,
   "metadata": {},
   "outputs": [],
   "source": [
    "# definição da função que calcula saidas\n",
    "\n",
    "def calculaSaida(registro):\n",
    "    s = registro.dot(pesos)\n",
    "    return step_func(s)"
   ]
  },
  {
   "cell_type": "code",
   "execution_count": 20,
   "metadata": {},
   "outputs": [],
   "source": [
    "# função de treinamento da rede neural simples de uma camada com ajuste de pesos\n",
    "\n",
    "def treinar():\n",
    "    erroTotal = 1\n",
    "    while (erroTotal != 0):\n",
    "        erroTotal = 0\n",
    "        for i in range(len(saidas)):\n",
    "            saidaCalculada = calculaSaida(np.asarray(entradas[i]))\n",
    "            erro = abs(saidas[i] - saidaCalculada)\n",
    "            erroTotal += erro\n",
    "            for j in range(len(pesos)):\n",
    "                pesos[j] = pesos[j] + (taxaAprendizagem * entradas[i][j] * erro)\n",
    "                print('Peso atualizado: '+ str(pesos[j]))\n",
    "        print('Total de erros: '+ str(erroTotal))"
   ]
  },
  {
   "cell_type": "code",
   "execution_count": 21,
   "metadata": {},
   "outputs": [
    {
     "name": "stdout",
     "output_type": "stream",
     "text": [
      "Peso atualizado: 0.0\n",
      "Peso atualizado: 0.0\n",
      "Peso atualizado: 0.0\n",
      "Peso atualizado: 0.0\n",
      "Peso atualizado: 0.0\n",
      "Peso atualizado: 0.0\n",
      "Peso atualizado: 0.1\n",
      "Peso atualizado: 0.1\n",
      "Total de erros: 1\n",
      "Peso atualizado: 0.1\n",
      "Peso atualizado: 0.1\n",
      "Peso atualizado: 0.1\n",
      "Peso atualizado: 0.1\n",
      "Peso atualizado: 0.1\n",
      "Peso atualizado: 0.1\n",
      "Peso atualizado: 0.2\n",
      "Peso atualizado: 0.2\n",
      "Total de erros: 1\n",
      "Peso atualizado: 0.2\n",
      "Peso atualizado: 0.2\n",
      "Peso atualizado: 0.2\n",
      "Peso atualizado: 0.2\n",
      "Peso atualizado: 0.2\n",
      "Peso atualizado: 0.2\n",
      "Peso atualizado: 0.30000000000000004\n",
      "Peso atualizado: 0.30000000000000004\n",
      "Total de erros: 1\n",
      "Peso atualizado: 0.30000000000000004\n",
      "Peso atualizado: 0.30000000000000004\n",
      "Peso atualizado: 0.30000000000000004\n",
      "Peso atualizado: 0.30000000000000004\n",
      "Peso atualizado: 0.30000000000000004\n",
      "Peso atualizado: 0.30000000000000004\n",
      "Peso atualizado: 0.4\n",
      "Peso atualizado: 0.4\n",
      "Total de erros: 1\n",
      "Peso atualizado: 0.4\n",
      "Peso atualizado: 0.4\n",
      "Peso atualizado: 0.4\n",
      "Peso atualizado: 0.4\n",
      "Peso atualizado: 0.4\n",
      "Peso atualizado: 0.4\n",
      "Peso atualizado: 0.5\n",
      "Peso atualizado: 0.5\n",
      "Total de erros: 1\n",
      "Peso atualizado: 0.5\n",
      "Peso atualizado: 0.5\n",
      "Peso atualizado: 0.5\n",
      "Peso atualizado: 0.5\n",
      "Peso atualizado: 0.5\n",
      "Peso atualizado: 0.5\n",
      "Peso atualizado: 0.5\n",
      "Peso atualizado: 0.5\n",
      "Total de erros: 0\n"
     ]
    }
   ],
   "source": [
    "# treinamento da rede neural simples de uma camada\n",
    "\n",
    "treinar()"
   ]
  },
  {
   "cell_type": "code",
   "execution_count": 23,
   "metadata": {},
   "outputs": [
    {
     "name": "stdout",
     "output_type": "stream",
     "text": [
      "Peso atualizado: 0.0\n",
      "Peso atualizado: 0.0\n",
      "Peso atualizado: 0.0\n",
      "Peso atualizado: 0.0\n",
      "Peso atualizado: 0.0\n",
      "Peso atualizado: 0.0\n",
      "Peso atualizado: 0.1\n",
      "Peso atualizado: 0.1\n",
      "Total de erros: 1\n",
      "Peso atualizado: 0.1\n",
      "Peso atualizado: 0.1\n",
      "Peso atualizado: 0.1\n",
      "Peso atualizado: 0.1\n",
      "Peso atualizado: 0.1\n",
      "Peso atualizado: 0.1\n",
      "Peso atualizado: 0.2\n",
      "Peso atualizado: 0.2\n",
      "Total de erros: 1\n",
      "Peso atualizado: 0.2\n",
      "Peso atualizado: 0.2\n",
      "Peso atualizado: 0.2\n",
      "Peso atualizado: 0.2\n",
      "Peso atualizado: 0.2\n",
      "Peso atualizado: 0.2\n",
      "Peso atualizado: 0.30000000000000004\n",
      "Peso atualizado: 0.30000000000000004\n",
      "Total de erros: 1\n",
      "Peso atualizado: 0.30000000000000004\n",
      "Peso atualizado: 0.30000000000000004\n",
      "Peso atualizado: 0.30000000000000004\n",
      "Peso atualizado: 0.30000000000000004\n",
      "Peso atualizado: 0.30000000000000004\n",
      "Peso atualizado: 0.30000000000000004\n",
      "Peso atualizado: 0.4\n",
      "Peso atualizado: 0.4\n",
      "Total de erros: 1\n",
      "Peso atualizado: 0.4\n",
      "Peso atualizado: 0.4\n",
      "Peso atualizado: 0.4\n",
      "Peso atualizado: 0.4\n",
      "Peso atualizado: 0.4\n",
      "Peso atualizado: 0.4\n",
      "Peso atualizado: 0.5\n",
      "Peso atualizado: 0.5\n",
      "Total de erros: 1\n",
      "Peso atualizado: 0.5\n",
      "Peso atualizado: 0.5\n",
      "Peso atualizado: 0.5\n",
      "Peso atualizado: 0.5\n",
      "Peso atualizado: 0.5\n",
      "Peso atualizado: 0.5\n",
      "Peso atualizado: 0.5\n",
      "Peso atualizado: 0.5\n",
      "Total de erros: 0\n",
      "Rede neural treinada\n",
      "0\n",
      "0\n",
      "0\n",
      "1\n"
     ]
    }
   ],
   "source": [
    "# importação da biblioteca para otmização de calculos\n",
    "import numpy as np\n",
    "\n",
    "# definição das variáveis de entrada, saidas, pesos e taxa de aprendizagem\n",
    "\n",
    "entradas = np.array([[0,0],[0,1], [1,0], [1,1]])\n",
    "saidas = np.array([0,0,0,1])\n",
    "#entradas = np.array([[0,0],[0,1], [1,0], [1,1]])\n",
    "#saidas = np.array([0,1,1,1])\n",
    "\n",
    "#entradas = np.array([[0,0],[0,1], [1,0], [1,1]])\n",
    "# saidas = np.array([0,1,1,0])\n",
    "pesos = np.array([0.0, 0.0])\n",
    "taxaAprendizagem = 0.1\n",
    "\n",
    "# função de ativação(step function)\n",
    "def stepFunction(soma):\n",
    "    if (soma >= 1):\n",
    "        return 1\n",
    "    return 0\n",
    "\n",
    "# função de para calcular a saída\n",
    "def calculaSaida(registro):\n",
    "    s = registro.dot(pesos)\n",
    "    return stepFunction(s)\n",
    "\n",
    "# função de treinamento\n",
    "def treinar():\n",
    "    erroTotal = 1\n",
    "    while (erroTotal != 0):\n",
    "        erroTotal = 0\n",
    "        for i in range(len(saidas)):\n",
    "            saidaCalculada = calculaSaida(np.asarray(entradas[i]))\n",
    "            erro = abs(saidas[i] - saidaCalculada)\n",
    "            erroTotal += erro\n",
    "            for j in range(len(pesos)):\n",
    "                pesos[j] = pesos[j] + (taxaAprendizagem * entradas[i][j] * erro)\n",
    "                print('Peso atualizado: '+ str(pesos[j]))\n",
    "        print('Total de erros: '+ str(erroTotal))\n",
    "\n",
    "# chamada da função de treinamento\n",
    "treinar()\n",
    "\n",
    "# imprime a rede neural treinada\n",
    "print('Rede neural treinada')\n",
    "\n",
    "# imprime a saída da rede neural treinada\n",
    "print(calculaSaida(entradas[0]))\n",
    "print(calculaSaida(entradas[1]))\n",
    "print(calculaSaida(entradas[2]))\n",
    "print(calculaSaida(entradas[3]))"
   ]
  },
  {
   "cell_type": "code",
   "execution_count": null,
   "metadata": {},
   "outputs": [],
   "source": []
  }
 ],
 "metadata": {
  "interpreter": {
   "hash": "ad2bdc8ecc057115af97d19610ffacc2b4e99fae6737bb82f5d7fb13d2f2c186"
  },
  "kernelspec": {
   "display_name": "Python 3.8.8 ('base')",
   "language": "python",
   "name": "python3"
  },
  "language_info": {
   "codemirror_mode": {
    "name": "ipython",
    "version": 3
   },
   "file_extension": ".py",
   "mimetype": "text/x-python",
   "name": "python",
   "nbconvert_exporter": "python",
   "pygments_lexer": "ipython3",
   "version": "3.8.8"
  },
  "orig_nbformat": 4
 },
 "nbformat": 4,
 "nbformat_minor": 2
}
